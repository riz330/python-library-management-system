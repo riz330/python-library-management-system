{
 "cells": [
  {
   "cell_type": "code",
   "execution_count": 1,
   "id": "eae9b777-ec02-4cd2-acfd-fd39bec0d700",
   "metadata": {},
   "outputs": [],
   "source": [
    "class library:\n",
    "  def __init__(self):\n",
    "    self.no_of_books = 0\n",
    "    self.books = []\n",
    "\n",
    "  def add_books(self, book):\n",
    "    self.books.append(book)\n",
    "    self.no_of_books = len(self.books)\n",
    "\n",
    "  def show_info(self):\n",
    "    print(f\"The library has {self.no_of_books} books. The books are\")\n",
    "    for book in self.books:\n",
    "      print(book)\n",
    "\n"
   ]
  },
  {
   "cell_type": "code",
   "execution_count": 3,
   "id": "95fbdecf-492d-42dd-87e4-53bc5711230b",
   "metadata": {},
   "outputs": [
    {
     "name": "stdout",
     "output_type": "stream",
     "text": [
      "The library has 3 books. The books are\n",
      "Harry Potter\n",
      "Harry Potter 2\n",
      "Harry Potter 3\n"
     ]
    }
   ],
   "source": [
    "l1 = library()\n",
    "l1.add_books(\"Harry Potter\")\n",
    "l1.add_books(\"Harry Potter 2\")\n",
    "l1.add_books(\"Harry Potter 3\")\n",
    "l1.show_info()"
   ]
  }
 ],
 "metadata": {
  "kernelspec": {
   "display_name": "Python 3 (ipykernel)",
   "language": "python",
   "name": "python3"
  },
  "language_info": {
   "codemirror_mode": {
    "name": "ipython",
    "version": 3
   },
   "file_extension": ".py",
   "mimetype": "text/x-python",
   "name": "python",
   "nbconvert_exporter": "python",
   "pygments_lexer": "ipython3",
   "version": "3.12.4"
  }
 },
 "nbformat": 4,
 "nbformat_minor": 5
}
